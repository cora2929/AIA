{
 "cells": [
  {
   "cell_type": "code",
   "execution_count": 1,
   "metadata": {},
   "outputs": [],
   "source": [
    "import numpy as np\n",
    "import pandas as pd\n",
    "import tensorflow as tf\n",
    "from matplotlib.pylab import rcParams\n",
    "import matplotlib.pyplot as plt\n",
    "from tqdm import tqdm #進度條\n",
    "\n",
    "import warnings\n",
    "warnings.filterwarnings('ignore')"
   ]
  },
  {
   "cell_type": "code",
   "execution_count": 2,
   "metadata": {},
   "outputs": [],
   "source": [
    "#讀取檔案路徑\n",
    "datadir='//data/examples/may_the_4_be_with_u/where_am_i/'\n",
    "\n",
    "#labelmap\n",
    "labelmap = pd.read_csv(datadir+'mid_term_mapping.txt',names=['place','index'])"
   ]
  },
  {
   "cell_type": "code",
   "execution_count": 3,
   "metadata": {},
   "outputs": [
    {
     "data": {
      "text/html": [
       "<div>\n",
       "<table border=\"1\" class=\"dataframe\">\n",
       "  <thead>\n",
       "    <tr style=\"text-align: right;\">\n",
       "      <th></th>\n",
       "      <th>place</th>\n",
       "      <th>index</th>\n",
       "    </tr>\n",
       "  </thead>\n",
       "  <tbody>\n",
       "    <tr>\n",
       "      <th>8</th>\n",
       "      <td>kitchen</td>\n",
       "      <td>0</td>\n",
       "    </tr>\n",
       "    <tr>\n",
       "      <th>13</th>\n",
       "      <td>street</td>\n",
       "      <td>1</td>\n",
       "    </tr>\n",
       "    <tr>\n",
       "      <th>6</th>\n",
       "      <td>industrial</td>\n",
       "      <td>2</td>\n",
       "    </tr>\n",
       "    <tr>\n",
       "      <th>7</th>\n",
       "      <td>insidecity</td>\n",
       "      <td>3</td>\n",
       "    </tr>\n",
       "    <tr>\n",
       "      <th>4</th>\n",
       "      <td>forest</td>\n",
       "      <td>4</td>\n",
       "    </tr>\n",
       "    <tr>\n",
       "      <th>9</th>\n",
       "      <td>livingroom</td>\n",
       "      <td>5</td>\n",
       "    </tr>\n",
       "    <tr>\n",
       "      <th>11</th>\n",
       "      <td>opencountry</td>\n",
       "      <td>6</td>\n",
       "    </tr>\n",
       "    <tr>\n",
       "      <th>1</th>\n",
       "      <td>PARoffice</td>\n",
       "      <td>7</td>\n",
       "    </tr>\n",
       "    <tr>\n",
       "      <th>10</th>\n",
       "      <td>mountain</td>\n",
       "      <td>8</td>\n",
       "    </tr>\n",
       "    <tr>\n",
       "      <th>0</th>\n",
       "      <td>CALsuburb</td>\n",
       "      <td>9</td>\n",
       "    </tr>\n",
       "    <tr>\n",
       "      <th>3</th>\n",
       "      <td>coast</td>\n",
       "      <td>10</td>\n",
       "    </tr>\n",
       "    <tr>\n",
       "      <th>12</th>\n",
       "      <td>store</td>\n",
       "      <td>11</td>\n",
       "    </tr>\n",
       "    <tr>\n",
       "      <th>2</th>\n",
       "      <td>bedroom</td>\n",
       "      <td>12</td>\n",
       "    </tr>\n",
       "    <tr>\n",
       "      <th>14</th>\n",
       "      <td>tallbuilding</td>\n",
       "      <td>13</td>\n",
       "    </tr>\n",
       "    <tr>\n",
       "      <th>5</th>\n",
       "      <td>highway</td>\n",
       "      <td>14</td>\n",
       "    </tr>\n",
       "  </tbody>\n",
       "</table>\n",
       "</div>"
      ],
      "text/plain": [
       "           place  index\n",
       "8        kitchen      0\n",
       "13        street      1\n",
       "6     industrial      2\n",
       "7     insidecity      3\n",
       "4         forest      4\n",
       "9     livingroom      5\n",
       "11   opencountry      6\n",
       "1      PARoffice      7\n",
       "10      mountain      8\n",
       "0      CALsuburb      9\n",
       "3          coast     10\n",
       "12         store     11\n",
       "2        bedroom     12\n",
       "14  tallbuilding     13\n",
       "5        highway     14"
      ]
     },
     "execution_count": 3,
     "metadata": {},
     "output_type": "execute_result"
    }
   ],
   "source": [
    "labelmap.sort_values('index')"
   ]
  },
  {
   "cell_type": "code",
   "execution_count": 4,
   "metadata": {},
   "outputs": [
    {
     "data": {
      "text/plain": [
       "['kitchen',\n",
       " 'street',\n",
       " 'industrial',\n",
       " 'insidecity',\n",
       " 'forest',\n",
       " 'livingroom',\n",
       " 'opencountry',\n",
       " 'PARoffice',\n",
       " 'mountain',\n",
       " 'CALsuburb',\n",
       " 'coast',\n",
       " 'store',\n",
       " 'bedroom',\n",
       " 'tallbuilding',\n",
       " 'highway']"
      ]
     },
     "execution_count": 4,
     "metadata": {},
     "output_type": "execute_result"
    }
   ],
   "source": [
    "#將labelmap以index排序後傳出成targetlist\n",
    "sortlabel=labelmap.sort_values('index')\n",
    "targetlist=sortlabel.place.as_matrix().tolist()\n",
    "targetlist"
   ]
  },
  {
   "cell_type": "markdown",
   "metadata": {},
   "source": [
    "## Red image & Label One Hot encoding\n",
    "### Keras imagedatagenerator"
   ]
  },
  {
   "cell_type": "code",
   "execution_count": 5,
   "metadata": {},
   "outputs": [],
   "source": [
    "import cv2 #image\n",
    "import glob #文件路徑\n",
    "\n",
    "sz = 256\n",
    "\n",
    "x=[]\n",
    "y=[]\n",
    "for i,c in enumerate(targetlist): #列出數據和數據下標\n",
    "    ff=glob.glob((datadir+'train/'+c+'/*jpg')) #讀取train底下的資料夾路徑\n",
    "    for f in ff:\n",
    "        img=cv2.imread(f,0) #灰階模式讀入圖\n",
    "        img200=cv2.resize(img,(sz,sz)) #所有圖片大小統一\n",
    "        iii=(np.reshape(img200,(sz,sz,1))).astype(float) #三維數據 \n",
    "        x.append(iii)\n",
    "        \n",
    "        ## one-hot encoding\n",
    "        nn=np.zeros(15,dtype=float) #zero()返回一個給定形狀和類型的用0填充的數組\n",
    "        nn[i]=1\n",
    "        ##        \n",
    "        y.append(nn)\n",
    "        \n",
    "xx=np.array(x) #image\n",
    "yy=np.array(y) #target"
   ]
  },
  {
   "cell_type": "code",
   "execution_count": 6,
   "metadata": {},
   "outputs": [
    {
     "name": "stdout",
     "output_type": "stream",
     "text": [
      "(2985, 256, 256, 1)\n",
      "(2985, 15)\n",
      "(1, 256, 1)\n"
     ]
    }
   ],
   "source": [
    "print(xx.shape)\n",
    "print(yy.shape)\n",
    "print(xx[0,[3]].shape)"
   ]
  },
  {
   "cell_type": "code",
   "execution_count": 7,
   "metadata": {},
   "outputs": [
    {
     "name": "stderr",
     "output_type": "stream",
     "text": [
      "Using TensorFlow backend.\n",
      "100%|██████████| 10/10 [01:46<00:00, 10.66s/it]\n"
     ]
    }
   ],
   "source": [
    "from  keras.preprocessing.image  import ImageDataGenerator\n",
    "\n",
    "datagen = ImageDataGenerator(       width_shift_range=0.2,\n",
    "                                    height_shift_range=0.2,\n",
    "                                    shear_range=0.2,\n",
    "                                    zoom_range=0.2,\n",
    "                                    horizontal_flip=True)\n",
    "gen_data = datagen.flow(xx,yy,batch_size= len(x))\n",
    "\n",
    "gen = 10\n",
    "for i in tqdm(range(gen)):\n",
    "    data = gen_data.next()\n",
    "    xx = np.concatenate((xx,data[0]))\n",
    "    yy = np.concatenate((yy,data[1]))"
   ]
  },
  {
   "cell_type": "code",
   "execution_count": 8,
   "metadata": {},
   "outputs": [
    {
     "name": "stdout",
     "output_type": "stream",
     "text": [
      "(32835, 256, 256, 1)\n",
      "(32835, 15)\n",
      "(1, 256, 1)\n"
     ]
    }
   ],
   "source": [
    "print(xx.shape)\n",
    "print(yy.shape)\n",
    "print(xx[0,[3]].shape)"
   ]
  },
  {
   "cell_type": "code",
   "execution_count": 9,
   "metadata": {},
   "outputs": [
    {
     "data": {
      "image/png": "[encoded data removed]",
      "text/plain": [
       "<matplotlib.figure.Figure at 0x7f31c49115f8>"
      ]
     },
     "metadata": {},
     "output_type": "display_data"
    }
   ],
   "source": [
    "plt.figure(figsize=(5,5))\n",
    "plt.imshow(xx[0,:,:,0])\n",
    "plt.show()"
   ]
  },
  {
   "cell_type": "markdown",
   "metadata": {},
   "source": [
    "stratify：array-like或者None，默認是None。。\n",
    "\n",
    "若為None時，劃分出來的測試集或訓練集中，其類標籤的比例也是隨機的。\n",
    "\n",
    "若不為None時，劃分出來的測試集或訓練集中，其類標籤的比例同輸入的數組中類標籤的比例相同，可以用於處理不均衡的數據集。\n",
    "sklearn.model_selection.train_test_split"
   ]
  },
  {
   "cell_type": "code",
   "execution_count": 10,
   "metadata": {},
   "outputs": [
    {
     "name": "stdout",
     "output_type": "stream",
     "text": [
      "training set data dimension\n",
      "(22984, 256, 256, 1)\n",
      "(22984, 15)\n",
      "-----------\n",
      "training set: 22984\n",
      "validation set: 9851\n"
     ]
    }
   ],
   "source": [
    "#----------------------------資料training set, testing set 分割---------------------------------------\n",
    "from sklearn.model_selection import train_test_split #資料分割\n",
    "#stratify如果不是None，將會利用數據的標籤將數據分層劃分\n",
    "x_train, x_valid, y_train, y_valid = train_test_split(xx,yy,test_size = 0.3,stratify = yy.argmax(axis = 1))\n",
    "#------------------------------------檢查資料---------------------------------------------------------\n",
    "print(\"training set data dimension\")\n",
    "print(x_train.shape)\n",
    "print(y_train.shape)\n",
    "print(\"-----------\")\n",
    "print(\"training set: %i\" % len(x_train))\n",
    "print(\"validation set: %i\" % len(x_valid))"
   ]
  },
  {
   "cell_type": "markdown",
   "metadata": {},
   "source": [
    "## Batch & Normalize"
   ]
  },
  {
   "cell_type": "code",
   "execution_count": 11,
   "metadata": {},
   "outputs": [],
   "source": [
    "from sklearn.utils import shuffle\n",
    "\n",
    "def train_batch_generater(x ,y , bs):\n",
    "    while True:\n",
    "        new_ind = shuffle(range(len(x)))\n",
    "        x = x.take(new_ind,0) #take() 其旨在根據提供的索引值將元素形成數組輸出\n",
    "        y = y.take(new_ind,0)\n",
    "        \n",
    "        total_batch = int(len(x)/bs)\n",
    "        \n",
    "        for i in range(total_batch):\n",
    "            batch_idx_start = i * bs\n",
    "            batch_idx_stop = (i+1) * bs\n",
    "            \n",
    "            x_batch = x[batch_idx_start : batch_idx_stop]\n",
    "            y_batch = y[batch_idx_start : batch_idx_stop]\n",
    "            \n",
    "            x_batch /= 255. #歸一化\n",
    "            \n",
    "            yield x_batch,y_batch   "
   ]
  },
  {
   "cell_type": "markdown",
   "metadata": {},
   "source": [
    "# create graph"
   ]
  },
  {
   "cell_type": "code",
   "execution_count": 12,
   "metadata": {},
   "outputs": [],
   "source": [
    "import tensorflow as tf\n",
    "\n",
    "tf.reset_default_graph() #重新 build graph   "
   ]
  },
  {
   "cell_type": "markdown",
   "metadata": {},
   "source": [
    "## Step 1 : define placeholder"
   ]
  },
  {
   "cell_type": "code",
   "execution_count": 13,
   "metadata": {},
   "outputs": [],
   "source": [
    "def neural_net_image_input(image_shape):\n",
    "    image = tf.placeholder(dtype = tf.float32,\n",
    "                           shape = [None,image_shape[0],image_shape[1],image_shape[2]],\n",
    "                           name = 'x')\n",
    "    return image\n",
    "\n",
    "def neural_net_label_input(n_classes):\n",
    "    label = tf.placeholder(dtype = tf.float32,\n",
    "                           shape = [None, n_classes],\n",
    "                           name = 'y')\n",
    "    return label\n",
    "    \n",
    "#dropout retaining probability\n",
    "def neural_net_keep_prob_input():\n",
    "    keep_prob = tf.placeholder(dtype= tf.float32,\n",
    "                               name = 'keep_prob')\n",
    "    return keep_prob"
   ]
  },
  {
   "cell_type": "code",
   "execution_count": 14,
   "metadata": {},
   "outputs": [],
   "source": [
    "#input_data = tf.placeholder(dtype = tf.float32,\n",
    "#                            shape = [None,(x_train.shape[1]*x_train.shape[2])],###65536\n",
    "#                            name  = 'input_data')\n",
    "#y_true     = tf.placeholder(dtype = tf.float32,\n",
    "#                            shape = [None,y_train.shape[1]],#15\n",
    "#                            name  = 'y_true')\n"
   ]
  },
  {
   "cell_type": "markdown",
   "metadata": {},
   "source": [
    "### Convolution amd Max Pooling Layer"
   ]
  },
  {
   "cell_type": "code",
   "execution_count": 15,
   "metadata": {},
   "outputs": [],
   "source": [
    "##convolution + Relu\n",
    "def conv2d(x_tensor, conv_num_outputs, conv_ksize, conv_strides): \n",
    "    \"\"\"\n",
    "    Apply convolution then max pooling to x_tensor\n",
    "    :param x_tensor: TensorFlow Tensor\n",
    "    :param conv_num_outputs: Number of outputs for the convolutional layer\n",
    "    :param conv_ksize: kernal size 2-D Tuple for the convolutional layer\n",
    "    :param conv_strides: Stride 2-D Tuple for convolution\n",
    "    :param pool_ksize: kernal size 2-D Tuple for pool\n",
    "    :param pool_strides: Stride 2-D Tuple for pool\n",
    "    : return: A tensor that represents convolution and max pooling of x_tensor\n",
    "    \"\"\"    \n",
    "    conv_layer = tf.layers.conv2d(x_tensor, conv_num_outputs, kernel_size=conv_ksize, strides=conv_strides, activation=tf.nn.relu, padding=\"same\")\n",
    "    #conv_layer = tf.layers.max_pooling2d(conv_layer, pool_size=pool_ksize, strides= pool_strides)\n",
    "    \n",
    "    return conv_layer"
   ]
  },
  {
   "cell_type": "code",
   "execution_count": 16,
   "metadata": {},
   "outputs": [],
   "source": [
    "##Max pooling\n",
    "def maxpool(conv_layer, pool_ksize, pool_strides):\n",
    "    maxpool_layer = tf.layers.max_pooling2d(conv_layer, pool_size=pool_ksize, strides= pool_strides)\n",
    "    \n",
    "    return maxpool_layer"
   ]
  },
  {
   "cell_type": "markdown",
   "metadata": {},
   "source": [
    "### Flatten Layer"
   ]
  },
  {
   "cell_type": "code",
   "execution_count": 17,
   "metadata": {},
   "outputs": [],
   "source": [
    "def flatten(x_tensor):\n",
    "    return tf.layers.flatten(x_tensor)"
   ]
  },
  {
   "cell_type": "markdown",
   "metadata": {},
   "source": [
    "### Fully-Connected Layer\n",
    "    dense layer"
   ]
  },
  {
   "cell_type": "code",
   "execution_count": 18,
   "metadata": {},
   "outputs": [],
   "source": [
    "##fully connected + Relu\n",
    "def fully_conn(x_tensor, num_outputs):\n",
    "    return tf.layers.dense(x_tensor, num_outputs, activation = tf.nn.relu)"
   ]
  },
  {
   "cell_type": "markdown",
   "metadata": {},
   "source": [
    "### Output Layer\n",
    "    output Layer 只是要將 layer 的結果 output 出來，不需要加上任何的 activation layer"
   ]
  },
  {
   "cell_type": "code",
   "execution_count": 19,
   "metadata": {},
   "outputs": [],
   "source": [
    "def output(x_tensor, num_outputs):\n",
    "    return tf.layers.dense(x_tensor, num_outputs, activation = None)"
   ]
  },
  {
   "cell_type": "markdown",
   "metadata": {},
   "source": [
    "### Create Convolutional Model"
   ]
  },
  {
   "cell_type": "markdown",
   "metadata": {},
   "source": [
    "Keras參考\n",
    "https://blog.csdn.net/cai13160674275/article/details/71078554"
   ]
  },
  {
   "cell_type": "code",
   "execution_count": 20,
   "metadata": {},
   "outputs": [
    {
     "data": {
      "image/png": "[encoded data removed]",
      "text/plain": [
       "<IPython.core.display.Image object>"
      ]
     },
     "execution_count": 20,
     "metadata": {},
     "output_type": "execute_result"
    }
   ],
   "source": [
    "from IPython.display import Image\n",
    "Image(filename='2018-07-19_171147.png')"
   ]
  },
  {
   "cell_type": "code",
   "execution_count": 21,
   "metadata": {},
   "outputs": [],
   "source": [
    "#參考VGG16\n",
    "def conv_net_VGG16(x, keep_prob):\n",
    "    # Create a convolutional neural network Model\n",
    "    \n",
    "    #參數\n",
    "    conv_ksize = (3,3)\n",
    "    conv_strides = (1,1)\n",
    "    pool_ksize = (2,2)\n",
    "    pool_strides = (2,2)\n",
    "    n_filters_1 = 64\n",
    "    n_filters_2 = 128\n",
    "    n_filters_3 = 256\n",
    "    n_filters_4 = 512\n",
    "    \n",
    "    #Convolution and Max Pool layers\n",
    "    conv_1 = conv2d(x, n_filters_1, conv_ksize, conv_strides) #256*256*64\n",
    "    conv_2 = conv2d(conv_1, n_filters_1, conv_ksize, conv_strides)\n",
    "    \n",
    "    conv_3 = maxpool(conv_2, pool_ksize, pool_strides) #128*128*64\n",
    "    conv_4 = conv2d(conv_3, n_filters_2, conv_ksize, conv_strides) #128*128*128\n",
    "    conv_5 = conv2d(conv_4, n_filters_2, conv_ksize, conv_strides)\n",
    "    \n",
    "    conv_6 = maxpool(conv_5, pool_ksize, pool_strides) #64*64*128\n",
    "    conv_7 = conv2d(conv_6, n_filters_3, conv_ksize, conv_strides) #64*64*256\n",
    "    conv_8 = conv2d(conv_7, n_filters_3, conv_ksize, conv_strides)\n",
    "    conv_9 = conv2d(conv_8, n_filters_3, conv_ksize, conv_strides)\n",
    "    \n",
    "    conv_10 = maxpool(conv_9, pool_ksize, pool_strides) #32*32*256\n",
    "    conv_11 = conv2d(conv_10, n_filters_4, conv_ksize, conv_strides) #32*32*512\n",
    "    conv_12 = conv2d(conv_11, n_filters_4, conv_ksize, conv_strides)\n",
    "    conv_13 = conv2d(conv_12, n_filters_4, conv_ksize, conv_strides)\n",
    "    \n",
    "    conv_14 = maxpool(conv_13, pool_ksize, pool_strides) #16*16**512\n",
    "    conv_15 = conv2d(conv_14, n_filters_4, conv_ksize, conv_strides) #16*16*512\n",
    "    conv_16 = conv2d(conv_15, n_filters_4, conv_ksize, conv_strides)\n",
    "    conv_17 = conv2d(conv_16, n_filters_4, conv_ksize, conv_strides)\n",
    "    \n",
    "    conv_18 = maxpool(conv_17, pool_ksize, pool_strides) #8*8*512\n",
    "    \n",
    "    #Flatten Layer\n",
    "    fc = flatten(conv_18) #32768\n",
    "    \n",
    "    #Fully Connected Layers + droput\n",
    "    fc1 = fully_conn(fc, 4096)\n",
    "    fc2 = tf.nn.dropout(fc1, keep_prob= keep_prob)\n",
    "    \n",
    "    fc3 = fully_conn(fc2, 4096)\n",
    "    fc4 = tf.nn.dropout(fc3, keep_prob= keep_prob)\n",
    "    \n",
    "    fc5 = fully_conn(fc4, 1000)\n",
    "    \n",
    "    #Out put Layer     \n",
    "    out = output(fc2, 15)\n",
    "    \n",
    "    return out\n",
    "       "
   ]
  },
  {
   "cell_type": "markdown",
   "metadata": {},
   "source": [
    "#### Build the Neural Network"
   ]
  },
  {
   "cell_type": "code",
   "execution_count": 22,
   "metadata": {},
   "outputs": [],
   "source": [
    "#初始化 graph\n",
    "tf.reset_default_graph()\n",
    "\n",
    "#Input\n",
    "x = neural_net_image_input((sz,sz,1))\n",
    "y = neural_net_label_input(y_train.shape[1])\n",
    "keep_prob = neural_net_keep_prob_input()\n",
    "\n",
    "#Model 的output (還沒有經過 softmax function，這些 output 的值通常為 logits)\n",
    "logits = conv_net_VGG16(x, keep_prob)\n",
    "\n",
    "#Name logits Tensor, so that is can be loaded from disk after training\n",
    "logits = tf.identity(logits, name = 'logits')\n",
    "\n",
    "#Loss and Opermizer\n",
    "loss = tf.reduce_mean(tf.nn.softmax_cross_entropy_with_logits(labels=y, logits=logits))\n",
    "\n",
    "lr = 0.01\n",
    "opt = tf.train.AdamOptimizer(learning_rate=lr)\n",
    "update = opt.minimize(loss)\n",
    "\n",
    "#Accuracy\n",
    "correct_pred = tf.equal(tf.argmax(logits,1), tf.argmax(y,1))\n",
    "accuracy = tf.reduce_mean(tf.cast(correct_pred, tf.float32), name= 'accuracy')"
   ]
  },
  {
   "cell_type": "markdown",
   "metadata": {},
   "source": [
    "## Train the Neural Network"
   ]
  },
  {
   "cell_type": "code",
   "execution_count": 23,
   "metadata": {},
   "outputs": [],
   "source": [
    "def train_neural_network(session, update, keep_probability, feature_batch, label_batch):\n",
    "    session.run(update, feed_dict= {x:feature_batch,y:label_batch,keep_prob: keep_probability})"
   ]
  },
  {
   "cell_type": "markdown",
   "metadata": {},
   "source": [
    "### Show Status"
   ]
  },
  {
   "cell_type": "code",
   "execution_count": 24,
   "metadata": {},
   "outputs": [],
   "source": [
    "def status(session, feature_batch, label_batch):\n",
    "    train_loss_batch = session.run(loss, feed_dict= {x:feature_batch,y:label_batch,keep_prob: 1.})\n",
    "    train_acc_batch = session.run(accuracy, feed_dict= {x:feature_batch,y:label_batch,keep_prob: 1.})\n",
    "    \n",
    "    return train_loss_batch,train_acc_batch"
   ]
  },
  {
   "cell_type": "code",
   "execution_count": 25,
   "metadata": {},
   "outputs": [
    {
     "data": {
      "text/plain": [
       "[<tf.Variable 'conv2d/kernel:0' shape=(3, 3, 1, 64) dtype=float32_ref>,\n",
       " <tf.Variable 'conv2d/bias:0' shape=(64,) dtype=float32_ref>,\n",
       " <tf.Variable 'conv2d_1/kernel:0' shape=(3, 3, 64, 64) dtype=float32_ref>,\n",
       " <tf.Variable 'conv2d_1/bias:0' shape=(64,) dtype=float32_ref>,\n",
       " <tf.Variable 'conv2d_2/kernel:0' shape=(3, 3, 64, 128) dtype=float32_ref>,\n",
       " <tf.Variable 'conv2d_2/bias:0' shape=(128,) dtype=float32_ref>,\n",
       " <tf.Variable 'conv2d_3/kernel:0' shape=(3, 3, 128, 128) dtype=float32_ref>,\n",
       " <tf.Variable 'conv2d_3/bias:0' shape=(128,) dtype=float32_ref>,\n",
       " <tf.Variable 'conv2d_4/kernel:0' shape=(3, 3, 128, 256) dtype=float32_ref>,\n",
       " <tf.Variable 'conv2d_4/bias:0' shape=(256,) dtype=float32_ref>,\n",
       " <tf.Variable 'conv2d_5/kernel:0' shape=(3, 3, 256, 256) dtype=float32_ref>,\n",
       " <tf.Variable 'conv2d_5/bias:0' shape=(256,) dtype=float32_ref>,\n",
       " <tf.Variable 'conv2d_6/kernel:0' shape=(3, 3, 256, 256) dtype=float32_ref>,\n",
       " <tf.Variable 'conv2d_6/bias:0' shape=(256,) dtype=float32_ref>,\n",
       " <tf.Variable 'conv2d_7/kernel:0' shape=(3, 3, 256, 512) dtype=float32_ref>,\n",
       " <tf.Variable 'conv2d_7/bias:0' shape=(512,) dtype=float32_ref>,\n",
       " <tf.Variable 'conv2d_8/kernel:0' shape=(3, 3, 512, 512) dtype=float32_ref>,\n",
       " <tf.Variable 'conv2d_8/bias:0' shape=(512,) dtype=float32_ref>,\n",
       " <tf.Variable 'conv2d_9/kernel:0' shape=(3, 3, 512, 512) dtype=float32_ref>,\n",
       " <tf.Variable 'conv2d_9/bias:0' shape=(512,) dtype=float32_ref>,\n",
       " <tf.Variable 'conv2d_10/kernel:0' shape=(3, 3, 512, 512) dtype=float32_ref>,\n",
       " <tf.Variable 'conv2d_10/bias:0' shape=(512,) dtype=float32_ref>,\n",
       " <tf.Variable 'conv2d_11/kernel:0' shape=(3, 3, 512, 512) dtype=float32_ref>,\n",
       " <tf.Variable 'conv2d_11/bias:0' shape=(512,) dtype=float32_ref>,\n",
       " <tf.Variable 'conv2d_12/kernel:0' shape=(3, 3, 512, 512) dtype=float32_ref>,\n",
       " <tf.Variable 'conv2d_12/bias:0' shape=(512,) dtype=float32_ref>,\n",
       " <tf.Variable 'dense/kernel:0' shape=(32768, 4096) dtype=float32_ref>,\n",
       " <tf.Variable 'dense/bias:0' shape=(4096,) dtype=float32_ref>,\n",
       " <tf.Variable 'dense_1/kernel:0' shape=(4096, 4096) dtype=float32_ref>,\n",
       " <tf.Variable 'dense_1/bias:0' shape=(4096,) dtype=float32_ref>,\n",
       " <tf.Variable 'dense_2/kernel:0' shape=(4096, 1000) dtype=float32_ref>,\n",
       " <tf.Variable 'dense_2/bias:0' shape=(1000,) dtype=float32_ref>,\n",
       " <tf.Variable 'dense_3/kernel:0' shape=(4096, 15) dtype=float32_ref>,\n",
       " <tf.Variable 'dense_3/bias:0' shape=(15,) dtype=float32_ref>,\n",
       " <tf.Variable 'beta1_power:0' shape=() dtype=float32_ref>,\n",
       " <tf.Variable 'beta2_power:0' shape=() dtype=float32_ref>,\n",
       " <tf.Variable 'conv2d/kernel/Adam:0' shape=(3, 3, 1, 64) dtype=float32_ref>,\n",
       " <tf.Variable 'conv2d/kernel/Adam_1:0' shape=(3, 3, 1, 64) dtype=float32_ref>,\n",
       " <tf.Variable 'conv2d/bias/Adam:0' shape=(64,) dtype=float32_ref>,\n",
       " <tf.Variable 'conv2d/bias/Adam_1:0' shape=(64,) dtype=float32_ref>,\n",
       " <tf.Variable 'conv2d_1/kernel/Adam:0' shape=(3, 3, 64, 64) dtype=float32_ref>,\n",
       " <tf.Variable 'conv2d_1/kernel/Adam_1:0' shape=(3, 3, 64, 64) dtype=float32_ref>,\n",
       " <tf.Variable 'conv2d_1/bias/Adam:0' shape=(64,) dtype=float32_ref>,\n",
       " <tf.Variable 'conv2d_1/bias/Adam_1:0' shape=(64,) dtype=float32_ref>,\n",
       " <tf.Variable 'conv2d_2/kernel/Adam:0' shape=(3, 3, 64, 128) dtype=float32_ref>,\n",
       " <tf.Variable 'conv2d_2/kernel/Adam_1:0' shape=(3, 3, 64, 128) dtype=float32_ref>,\n",
       " <tf.Variable 'conv2d_2/bias/Adam:0' shape=(128,) dtype=float32_ref>,\n",
       " <tf.Variable 'conv2d_2/bias/Adam_1:0' shape=(128,) dtype=float32_ref>,\n",
       " <tf.Variable 'conv2d_3/kernel/Adam:0' shape=(3, 3, 128, 128) dtype=float32_ref>,\n",
       " <tf.Variable 'conv2d_3/kernel/Adam_1:0' shape=(3, 3, 128, 128) dtype=float32_ref>,\n",
       " <tf.Variable 'conv2d_3/bias/Adam:0' shape=(128,) dtype=float32_ref>,\n",
       " <tf.Variable 'conv2d_3/bias/Adam_1:0' shape=(128,) dtype=float32_ref>,\n",
       " <tf.Variable 'conv2d_4/kernel/Adam:0' shape=(3, 3, 128, 256) dtype=float32_ref>,\n",
       " <tf.Variable 'conv2d_4/kernel/Adam_1:0' shape=(3, 3, 128, 256) dtype=float32_ref>,\n",
       " <tf.Variable 'conv2d_4/bias/Adam:0' shape=(256,) dtype=float32_ref>,\n",
       " <tf.Variable 'conv2d_4/bias/Adam_1:0' shape=(256,) dtype=float32_ref>,\n",
       " <tf.Variable 'conv2d_5/kernel/Adam:0' shape=(3, 3, 256, 256) dtype=float32_ref>,\n",
       " <tf.Variable 'conv2d_5/kernel/Adam_1:0' shape=(3, 3, 256, 256) dtype=float32_ref>,\n",
       " <tf.Variable 'conv2d_5/bias/Adam:0' shape=(256,) dtype=float32_ref>,\n",
       " <tf.Variable 'conv2d_5/bias/Adam_1:0' shape=(256,) dtype=float32_ref>,\n",
       " <tf.Variable 'conv2d_6/kernel/Adam:0' shape=(3, 3, 256, 256) dtype=float32_ref>,\n",
       " <tf.Variable 'conv2d_6/kernel/Adam_1:0' shape=(3, 3, 256, 256) dtype=float32_ref>,\n",
       " <tf.Variable 'conv2d_6/bias/Adam:0' shape=(256,) dtype=float32_ref>,\n",
       " <tf.Variable 'conv2d_6/bias/Adam_1:0' shape=(256,) dtype=float32_ref>,\n",
       " <tf.Variable 'conv2d_7/kernel/Adam:0' shape=(3, 3, 256, 512) dtype=float32_ref>,\n",
       " <tf.Variable 'conv2d_7/kernel/Adam_1:0' shape=(3, 3, 256, 512) dtype=float32_ref>,\n",
       " <tf.Variable 'conv2d_7/bias/Adam:0' shape=(512,) dtype=float32_ref>,\n",
       " <tf.Variable 'conv2d_7/bias/Adam_1:0' shape=(512,) dtype=float32_ref>,\n",
       " <tf.Variable 'conv2d_8/kernel/Adam:0' shape=(3, 3, 512, 512) dtype=float32_ref>,\n",
       " <tf.Variable 'conv2d_8/kernel/Adam_1:0' shape=(3, 3, 512, 512) dtype=float32_ref>,\n",
       " <tf.Variable 'conv2d_8/bias/Adam:0' shape=(512,) dtype=float32_ref>,\n",
       " <tf.Variable 'conv2d_8/bias/Adam_1:0' shape=(512,) dtype=float32_ref>,\n",
       " <tf.Variable 'conv2d_9/kernel/Adam:0' shape=(3, 3, 512, 512) dtype=float32_ref>,\n",
       " <tf.Variable 'conv2d_9/kernel/Adam_1:0' shape=(3, 3, 512, 512) dtype=float32_ref>,\n",
       " <tf.Variable 'conv2d_9/bias/Adam:0' shape=(512,) dtype=float32_ref>,\n",
       " <tf.Variable 'conv2d_9/bias/Adam_1:0' shape=(512,) dtype=float32_ref>,\n",
       " <tf.Variable 'conv2d_10/kernel/Adam:0' shape=(3, 3, 512, 512) dtype=float32_ref>,\n",
       " <tf.Variable 'conv2d_10/kernel/Adam_1:0' shape=(3, 3, 512, 512) dtype=float32_ref>,\n",
       " <tf.Variable 'conv2d_10/bias/Adam:0' shape=(512,) dtype=float32_ref>,\n",
       " <tf.Variable 'conv2d_10/bias/Adam_1:0' shape=(512,) dtype=float32_ref>,\n",
       " <tf.Variable 'conv2d_11/kernel/Adam:0' shape=(3, 3, 512, 512) dtype=float32_ref>,\n",
       " <tf.Variable 'conv2d_11/kernel/Adam_1:0' shape=(3, 3, 512, 512) dtype=float32_ref>,\n",
       " <tf.Variable 'conv2d_11/bias/Adam:0' shape=(512,) dtype=float32_ref>,\n",
       " <tf.Variable 'conv2d_11/bias/Adam_1:0' shape=(512,) dtype=float32_ref>,\n",
       " <tf.Variable 'conv2d_12/kernel/Adam:0' shape=(3, 3, 512, 512) dtype=float32_ref>,\n",
       " <tf.Variable 'conv2d_12/kernel/Adam_1:0' shape=(3, 3, 512, 512) dtype=float32_ref>,\n",
       " <tf.Variable 'conv2d_12/bias/Adam:0' shape=(512,) dtype=float32_ref>,\n",
       " <tf.Variable 'conv2d_12/bias/Adam_1:0' shape=(512,) dtype=float32_ref>,\n",
       " <tf.Variable 'dense/kernel/Adam:0' shape=(32768, 4096) dtype=float32_ref>,\n",
       " <tf.Variable 'dense/kernel/Adam_1:0' shape=(32768, 4096) dtype=float32_ref>,\n",
       " <tf.Variable 'dense/bias/Adam:0' shape=(4096,) dtype=float32_ref>,\n",
       " <tf.Variable 'dense/bias/Adam_1:0' shape=(4096,) dtype=float32_ref>,\n",
       " <tf.Variable 'dense_3/kernel/Adam:0' shape=(4096, 15) dtype=float32_ref>,\n",
       " <tf.Variable 'dense_3/kernel/Adam_1:0' shape=(4096, 15) dtype=float32_ref>,\n",
       " <tf.Variable 'dense_3/bias/Adam:0' shape=(15,) dtype=float32_ref>,\n",
       " <tf.Variable 'dense_3/bias/Adam_1:0' shape=(15,) dtype=float32_ref>]"
      ]
     },
     "execution_count": 25,
     "metadata": {},
     "output_type": "execute_result"
    }
   ],
   "source": [
    "tf.global_variables() "
   ]
  },
  {
   "cell_type": "markdown",
   "metadata": {},
   "source": [
    "# run session"
   ]
  },
  {
   "cell_type": "markdown",
   "metadata": {},
   "source": [
    "## step 1 : run global variables initialization"
   ]
  },
  {
   "cell_type": "code",
   "execution_count": 26,
   "metadata": {},
   "outputs": [],
   "source": [
    "init = tf.global_variables_initializer()\n",
    "\n",
    "sess = tf.Session()\n",
    "sess.run(init)"
   ]
  },
  {
   "cell_type": "markdown",
   "metadata": {},
   "source": [
    "## step 2 : run optimizer"
   ]
  },
  {
   "cell_type": "code",
   "execution_count": 27,
   "metadata": {},
   "outputs": [],
   "source": [
    "from sklearn.metrics import accuracy_score\n",
    "\n",
    "#訓練參數\n",
    "epoch = 30 #更新30次\n",
    "bs = 8 #每次32筆\n",
    "update_per_epoch = 100 #1個epoch更新100次\n",
    "keep_probability = 0.5\n",
    "\n",
    "tr_loss = list() #紀錄training Loss\n",
    "tr_acc = list() #紀錄 training Accuracy\n",
    "\n",
    "train_gen = train_batch_generater(x_train,y_train,bs)\n",
    "valid_gen = train_batch_generater(x_valid,y_valid,bs)"
   ]
  },
  {
   "cell_type": "markdown",
   "metadata": {},
   "source": [
    "## Train on a Single Batch"
   ]
  },
  {
   "cell_type": "code",
   "execution_count": 28,
   "metadata": {},
   "outputs": [],
   "source": [
    "#with tf.Session() as sess:\n",
    "#    sess.run(tf.global_variables_initializer())\n",
    "#    x_batch, y_batch = next(train_gen)\n",
    "    \n",
    "#    for i in range(epoch):\n",
    "#        train_neural_network(sess, update, keep_probability, x_batch, y_batch)\n",
    "#        train_loss_batch,\n",
    "#        print('Epoch {:>2},Batch{}: '.format(i + 1, 1),end='')\n",
    "#        print_status(sess,x_batch,y_batch,loss,accuracy)"
   ]
  },
  {
   "cell_type": "code",
   "execution_count": null,
   "metadata": {},
   "outputs": [
    {
     "data": {
      "text/plain": [
       "'\\nfrom  keras.preprocessing.image  import ImageDataGenerator\\n\\ndatagen = ImageDataGenerator(       width_shift_range=0.2,\\n                                    height_shift_range=0.2,\\n                                    shear_range=0.2,\\n                                    zoom_range=0.2,\\n                                    horizontal_flip=True)\\ngen_data = datagen.flow(xx,yy,batch_size= len(x))\\n\\ndata = gen_data.next() \\n\\nxx = np.concatenate((xx,data[0]))\\nyy = np.concatenate((yy,data[1]))\\n'"
      ]
     },
     "execution_count": 29,
     "metadata": {},
     "output_type": "execute_result"
    }
   ],
   "source": [
    "\"\"\"\n",
    "from  keras.preprocessing.image  import ImageDataGenerator\n",
    "\n",
    "datagen = ImageDataGenerator(       width_shift_range=0.2,\n",
    "                                    height_shift_range=0.2,\n",
    "                                    shear_range=0.2,\n",
    "                                    zoom_range=0.2,\n",
    "                                    horizontal_flip=True)\n",
    "gen_data = datagen.flow(xx,yy,batch_size= len(x))\n",
    "\n",
    "data = gen_data.next() \n",
    "\n",
    "xx = np.concatenate((xx,data[0]))\n",
    "yy = np.concatenate((yy,data[1]))\n",
    "\"\"\""
   ]
  },
  {
   "cell_type": "markdown",
   "metadata": {},
   "source": [
    "## Sess run"
   ]
  },
  {
   "cell_type": "code",
   "execution_count": null,
   "metadata": {
    "scrolled": true
   },
   "outputs": [
    {
     "name": "stderr",
     "output_type": "stream",
     "text": [
      "100%|██████████| 100/100 [00:25<00:00,  3.86it/s]\n",
      "  0%|          | 0/100 [00:00<?, ?it/s]"
     ]
    },
    {
     "name": "stdout",
     "output_type": "stream",
     "text": [
      "epoch 1: training loss: 250646202.21941912 ； training acc: 0.1075\n"
     ]
    },
    {
     "name": "stderr",
     "output_type": "stream",
     "text": [
      "100%|██████████| 100/100 [00:20<00:00,  4.92it/s]\n",
      "  0%|          | 0/100 [00:00<?, ?it/s]"
     ]
    },
    {
     "name": "stdout",
     "output_type": "stream",
     "text": [
      "epoch 2: training loss: 2.6686754393577576 ； training acc: 0.1075\n"
     ]
    },
    {
     "name": "stderr",
     "output_type": "stream",
     "text": [
      "100%|██████████| 100/100 [00:20<00:00,  4.89it/s]\n",
      "  0%|          | 0/100 [00:00<?, ?it/s]"
     ]
    },
    {
     "name": "stdout",
     "output_type": "stream",
     "text": [
      "epoch 3: training loss: 2.6747085070610046 ； training acc: 0.08625\n"
     ]
    },
    {
     "name": "stderr",
     "output_type": "stream",
     "text": [
      "100%|██████████| 100/100 [00:20<00:00,  4.88it/s]\n",
      "  0%|          | 0/100 [00:00<?, ?it/s]"
     ]
    },
    {
     "name": "stdout",
     "output_type": "stream",
     "text": [
      "epoch 4: training loss: 2.663603308200836 ； training acc: 0.09375\n"
     ]
    },
    {
     "name": "stderr",
     "output_type": "stream",
     "text": [
      "100%|██████████| 100/100 [00:20<00:00,  4.87it/s]\n",
      "  0%|          | 0/100 [00:00<?, ?it/s]"
     ]
    },
    {
     "name": "stdout",
     "output_type": "stream",
     "text": [
      "epoch 5: training loss: 2.6645505833625793 ； training acc: 0.115\n"
     ]
    },
    {
     "name": "stderr",
     "output_type": "stream",
     "text": [
      "100%|██████████| 100/100 [00:20<00:00,  4.87it/s]\n",
      "  0%|          | 0/100 [00:00<?, ?it/s]"
     ]
    },
    {
     "name": "stdout",
     "output_type": "stream",
     "text": [
      "epoch 6: training loss: 2.6744788599014284 ； training acc: 0.10625\n"
     ]
    },
    {
     "name": "stderr",
     "output_type": "stream",
     "text": [
      "100%|██████████| 100/100 [00:20<00:00,  4.88it/s]\n",
      "  0%|          | 0/100 [00:00<?, ?it/s]"
     ]
    },
    {
     "name": "stdout",
     "output_type": "stream",
     "text": [
      "epoch 7: training loss: 2.676570649147034 ； training acc: 0.08125\n"
     ]
    },
    {
     "name": "stderr",
     "output_type": "stream",
     "text": [
      "100%|██████████| 100/100 [00:20<00:00,  4.85it/s]\n",
      "  0%|          | 0/100 [00:00<?, ?it/s]"
     ]
    },
    {
     "name": "stdout",
     "output_type": "stream",
     "text": [
      "epoch 8: training loss: 2.6628925085067747 ； training acc: 0.0975\n"
     ]
    },
    {
     "name": "stderr",
     "output_type": "stream",
     "text": [
      "100%|██████████| 100/100 [00:20<00:00,  4.87it/s]\n",
      "  0%|          | 0/100 [00:00<?, ?it/s]"
     ]
    },
    {
     "name": "stdout",
     "output_type": "stream",
     "text": [
      "epoch 9: training loss: 2.674492988586426 ； training acc: 0.10375\n"
     ]
    },
    {
     "name": "stderr",
     "output_type": "stream",
     "text": [
      "100%|██████████| 100/100 [00:20<00:00,  4.86it/s]\n",
      "  0%|          | 0/100 [00:00<?, ?it/s]"
     ]
    },
    {
     "name": "stdout",
     "output_type": "stream",
     "text": [
      "epoch 10: training loss: 2.6709522867202757 ； training acc: 0.09\n"
     ]
    },
    {
     "name": "stderr",
     "output_type": "stream",
     "text": [
      "100%|██████████| 100/100 [00:20<00:00,  4.86it/s]\n",
      "  0%|          | 0/100 [00:00<?, ?it/s]"
     ]
    },
    {
     "name": "stdout",
     "output_type": "stream",
     "text": [
      "epoch 11: training loss: 2.657571301460266 ； training acc: 0.0975\n"
     ]
    },
    {
     "name": "stderr",
     "output_type": "stream",
     "text": [
      "100%|██████████| 100/100 [00:20<00:00,  4.88it/s]\n",
      "  0%|          | 0/100 [00:00<?, ?it/s]"
     ]
    },
    {
     "name": "stdout",
     "output_type": "stream",
     "text": [
      "epoch 12: training loss: 2.654260630607605 ； training acc: 0.10875\n"
     ]
    },
    {
     "name": "stderr",
     "output_type": "stream",
     "text": [
      "100%|██████████| 100/100 [00:20<00:00,  4.86it/s]\n",
      "  0%|          | 0/100 [00:00<?, ?it/s]"
     ]
    },
    {
     "name": "stdout",
     "output_type": "stream",
     "text": [
      "epoch 13: training loss: 2.6428034329414367 ； training acc: 0.1375\n"
     ]
    },
    {
     "name": "stderr",
     "output_type": "stream",
     "text": [
      "100%|██████████| 100/100 [00:20<00:00,  4.87it/s]\n",
      "  0%|          | 0/100 [00:00<?, ?it/s]"
     ]
    },
    {
     "name": "stdout",
     "output_type": "stream",
     "text": [
      "epoch 14: training loss: 2.6712965106964113 ； training acc: 0.0975\n"
     ]
    },
    {
     "name": "stderr",
     "output_type": "stream",
     "text": [
      "100%|██████████| 100/100 [00:20<00:00,  4.85it/s]\n",
      "  0%|          | 0/100 [00:00<?, ?it/s]"
     ]
    },
    {
     "name": "stdout",
     "output_type": "stream",
     "text": [
      "epoch 15: training loss: 2.6748537397384644 ； training acc: 0.11625\n"
     ]
    },
    {
     "name": "stderr",
     "output_type": "stream",
     "text": [
      "100%|██████████| 100/100 [00:20<00:00,  4.87it/s]\n",
      "  0%|          | 0/100 [00:00<?, ?it/s]"
     ]
    },
    {
     "name": "stdout",
     "output_type": "stream",
     "text": [
      "epoch 16: training loss: 2.647905743122101 ； training acc: 0.09625\n"
     ]
    },
    {
     "name": "stderr",
     "output_type": "stream",
     "text": [
      "100%|██████████| 100/100 [00:20<00:00,  4.87it/s]\n",
      "  0%|          | 0/100 [00:00<?, ?it/s]"
     ]
    },
    {
     "name": "stdout",
     "output_type": "stream",
     "text": [
      "epoch 17: training loss: 2.647370195388794 ； training acc: 0.10625\n"
     ]
    },
    {
     "name": "stderr",
     "output_type": "stream",
     "text": [
      "100%|██████████| 100/100 [00:20<00:00,  4.85it/s]\n",
      "  0%|          | 0/100 [00:00<?, ?it/s]"
     ]
    },
    {
     "name": "stdout",
     "output_type": "stream",
     "text": [
      "epoch 18: training loss: 2.658843014240265 ； training acc: 0.12375\n"
     ]
    },
    {
     "name": "stderr",
     "output_type": "stream",
     "text": [
      "100%|██████████| 100/100 [00:20<00:00,  4.87it/s]\n",
      "  0%|          | 0/100 [00:00<?, ?it/s]"
     ]
    },
    {
     "name": "stdout",
     "output_type": "stream",
     "text": [
      "epoch 19: training loss: 2.6614507913589476 ； training acc: 0.10875\n"
     ]
    },
    {
     "name": "stderr",
     "output_type": "stream",
     "text": [
      "100%|██████████| 100/100 [00:20<00:00,  4.84it/s]\n",
      "  0%|          | 0/100 [00:00<?, ?it/s]"
     ]
    },
    {
     "name": "stdout",
     "output_type": "stream",
     "text": [
      "epoch 20: training loss: 2.6642586374282837 ； training acc: 0.0975\n"
     ]
    },
    {
     "name": "stderr",
     "output_type": "stream",
     "text": [
      "100%|██████████| 100/100 [00:20<00:00,  4.83it/s]\n",
      "  0%|          | 0/100 [00:00<?, ?it/s]"
     ]
    },
    {
     "name": "stdout",
     "output_type": "stream",
     "text": [
      "epoch 21: training loss: 2.6726031374931334 ； training acc: 0.09125\n"
     ]
    },
    {
     "name": "stderr",
     "output_type": "stream",
     "text": [
      "100%|██████████| 100/100 [00:20<00:00,  4.84it/s]\n",
      "  0%|          | 0/100 [00:00<?, ?it/s]"
     ]
    },
    {
     "name": "stdout",
     "output_type": "stream",
     "text": [
      "epoch 22: training loss: 2.6780487942695617 ； training acc: 0.0975\n"
     ]
    },
    {
     "name": "stderr",
     "output_type": "stream",
     "text": [
      "100%|██████████| 100/100 [00:20<00:00,  4.87it/s]\n",
      "  0%|          | 0/100 [00:00<?, ?it/s]"
     ]
    },
    {
     "name": "stdout",
     "output_type": "stream",
     "text": [
      "epoch 23: training loss: 2.6623933148384094 ； training acc: 0.095\n"
     ]
    },
    {
     "name": "stderr",
     "output_type": "stream",
     "text": [
      "100%|██████████| 100/100 [00:20<00:00,  4.85it/s]\n",
      "  0%|          | 0/100 [00:00<?, ?it/s]"
     ]
    },
    {
     "name": "stdout",
     "output_type": "stream",
     "text": [
      "epoch 24: training loss: 2.665309693813324 ； training acc: 0.10375\n"
     ]
    },
    {
     "name": "stderr",
     "output_type": "stream",
     "text": [
      "100%|██████████| 100/100 [00:20<00:00,  4.84it/s]\n",
      "  0%|          | 0/100 [00:00<?, ?it/s]"
     ]
    },
    {
     "name": "stdout",
     "output_type": "stream",
     "text": [
      "epoch 25: training loss: 2.667023031711578 ； training acc: 0.08375\n"
     ]
    },
    {
     "name": "stderr",
     "output_type": "stream",
     "text": [
      "100%|██████████| 100/100 [00:20<00:00,  4.87it/s]\n",
      "  0%|          | 0/100 [00:00<?, ?it/s]"
     ]
    },
    {
     "name": "stdout",
     "output_type": "stream",
     "text": [
      "epoch 26: training loss: 2.6746987748146056 ； training acc: 0.0825\n"
     ]
    },
    {
     "name": "stderr",
     "output_type": "stream",
     "text": [
      "100%|██████████| 100/100 [00:20<00:00,  4.85it/s]\n",
      "  0%|          | 0/100 [00:00<?, ?it/s]"
     ]
    },
    {
     "name": "stdout",
     "output_type": "stream",
     "text": [
      "epoch 27: training loss: 2.672783148288727 ； training acc: 0.10375\n"
     ]
    },
    {
     "name": "stderr",
     "output_type": "stream",
     "text": [
      "100%|██████████| 100/100 [00:20<00:00,  4.85it/s]\n",
      "  0%|          | 0/100 [00:00<?, ?it/s]"
     ]
    },
    {
     "name": "stdout",
     "output_type": "stream",
     "text": [
      "epoch 28: training loss: 2.6522378087043763 ； training acc: 0.0975\n"
     ]
    },
    {
     "name": "stderr",
     "output_type": "stream",
     "text": [
      " 73%|███████▎  | 73/100 [00:14<00:05,  4.88it/s]"
     ]
    }
   ],
   "source": [
    "sess.run(tf.global_variables_initializer()) #開始前先初始化\n",
    "\n",
    "for i in range(epoch):\n",
    "    \n",
    "    #calculate training loss & update variables\n",
    "    training_loss = 0\n",
    "    training_acc = 0\n",
    "    \n",
    "    for j in tqdm(range(update_per_epoch)): \n",
    "        \n",
    "        x_batch, y_batch = next(train_gen)\n",
    "        train_neural_network(sess, update, keep_probability, x_batch, y_batch)\n",
    "        \n",
    "        train_loss_batch,train_acc_batch = status(sess, x_batch, y_batch)\n",
    "        \n",
    "        training_loss += train_loss_batch\n",
    "        training_acc += train_acc_batch\n",
    "    \n",
    "    training_loss /= update_per_epoch\n",
    "    training_acc /= update_per_epoch\n",
    "    \n",
    "    tr_loss.append(training_loss)\n",
    "    tr_acc.append(training_acc)\n",
    "        \n",
    "    print('epoch {epochs}: training loss: {training_loss} ； training acc: {training_acc}'.format(epochs = (i+1),training_loss= training_loss,training_acc= training_acc))\n",
    "    "
   ]
  },
  {
   "cell_type": "markdown",
   "metadata": {},
   "source": [
    "### Valid 資料帶入預測"
   ]
  },
  {
   "cell_type": "code",
   "execution_count": null,
   "metadata": {},
   "outputs": [],
   "source": [
    "for i in tqdm(range(1))"
   ]
  },
  {
   "cell_type": "code",
   "execution_count": null,
   "metadata": {},
   "outputs": [],
   "source": []
  },
  {
   "cell_type": "code",
   "execution_count": null,
   "metadata": {},
   "outputs": [],
   "source": []
  },
  {
   "cell_type": "code",
   "execution_count": null,
   "metadata": {},
   "outputs": [],
   "source": []
  },
  {
   "cell_type": "code",
   "execution_count": null,
   "metadata": {},
   "outputs": [],
   "source": []
  },
  {
   "cell_type": "code",
   "execution_count": null,
   "metadata": {},
   "outputs": [],
   "source": []
  },
  {
   "cell_type": "code",
   "execution_count": null,
   "metadata": {},
   "outputs": [],
   "source": []
  },
  {
   "cell_type": "code",
   "execution_count": null,
   "metadata": {},
   "outputs": [],
   "source": []
  },
  {
   "cell_type": "code",
   "execution_count": null,
   "metadata": {},
   "outputs": [],
   "source": []
  },
  {
   "cell_type": "code",
   "execution_count": null,
   "metadata": {},
   "outputs": [],
   "source": [
    "for i in range(epoch):\n",
    "    \n",
    "    #calculate training loss & update variables\n",
    "    training_loss = 0\n",
    "    training_acc = 0\n",
    "\n",
    "    for j in tqdm(range(update_per_epoch)): \n",
    "        \n",
    "        x_batch, y_batch = next(train_gen) ##\n",
    "        \n",
    "        #\"_\"python:一個臨時性名稱使用；分配一個名稱，但在後面不會用到\n",
    "        tr_pred, train_loss_batch, _ = sess.run([y_pred, loss, update], feed_dict={input_data:x_batch,y_true:y_batch})\n",
    "        \n",
    "        training_loss += train_loss_batch \n",
    "        \n",
    "        #training Accuracy\n",
    "        training_acc_batch = accuracy_score(np.argmax(y_batch,axis= 1),np.argmax(tr_pred,axis= 1))\n",
    "        training_acc += training_acc_batch           \n",
    "    \n",
    "    #算平均\n",
    "    training_loss /= update_per_epoch\n",
    "    training_acc /= update_per_epoch\n",
    "    \n",
    "    tr_loss.append(training_loss)\n",
    "    tr_acc.append(training_acc)\n",
    "    \n",
    "    print('epoch {epochs}: training loss{training_loss}'.format(epochs = (i+1),training_loss= training_acc))"
   ]
  },
  {
   "cell_type": "markdown",
   "metadata": {},
   "source": [
    "## polt model training result"
   ]
  },
  {
   "cell_type": "code",
   "execution_count": null,
   "metadata": {},
   "outputs": [],
   "source": [
    "plt.figure(1)\n",
    "plt.subplot(121)\n",
    "plt.plot(range(len(tr_loss)),tr_loss,label = 'training')\n",
    "plt.title('Loss')\n",
    "plt.legend(loc = 'best')\n",
    "plt.subplot(122)\n",
    "plt.plot(range(len(tr_acc)),tr_acc,label = 'training')\n",
    "plt.title('Accuracy')\n",
    "plt.show()"
   ]
  },
  {
   "cell_type": "markdown",
   "metadata": {},
   "source": [
    "## 以測試資料評估模型準確率與預測"
   ]
  },
  {
   "cell_type": "markdown",
   "metadata": {},
   "source": [
    "### Step1. 模型準確率"
   ]
  },
  {
   "cell_type": "code",
   "execution_count": 24,
   "metadata": {},
   "outputs": [
    {
     "name": "stdout",
     "output_type": "stream",
     "text": [
      "epoch 30: training acc0.1028125\n"
     ]
    }
   ],
   "source": [
    "print('epoch {epochs}: training acc{training_acc}'.format(epochs = (i+1),training_acc= training_acc))"
   ]
  }
 ],
 "metadata": {
  "kernelspec": {
   "display_name": "Python 3",
   "language": "python",
   "name": "python3"
  },
  "language_info": {
   "codemirror_mode": {
    "name": "ipython",
    "version": 3
   },
   "file_extension": ".py",
   "mimetype": "text/x-python",
   "name": "python",
   "nbconvert_exporter": "python",
   "pygments_lexer": "ipython3",
   "version": "3.6.3"
  }
 },
 "nbformat": 4,
 "nbformat_minor": 2
}
